{
 "cells": [
  {
   "cell_type": "code",
   "execution_count": 1,
   "id": "78308837",
   "metadata": {},
   "outputs": [],
   "source": [
    "from selenium import webdriver\n",
    "from selenium.webdriver.common.by import By\n",
    "from bs4 import BeautifulSoup\n",
    "import time\n",
    "import pandas as pd"
   ]
  },
  {
   "cell_type": "code",
   "execution_count": 10,
   "id": "fc14c912",
   "metadata": {},
   "outputs": [
    {
     "data": {
      "text/plain": [
       "'https://www.linkedin.com/jobs/search?keywords=Data%20Scientist%20Jobs&location=india&geoId=&trk=public_jobs_jobs-search-bar_search-submit&position=1&pageNum=0'"
      ]
     },
     "execution_count": 10,
     "metadata": {},
     "output_type": "execute_result"
    }
   ],
   "source": [
    "job_name = \"Data Scientist\"\n",
    "country_name = \"india\"\n",
    "\n",
    "job_url =\"\";\n",
    "for item in job_name.split(\" \"):\n",
    "    if item != job_name.split(\" \")[-1]:\n",
    "        job_url = job_url + item + \"%20\"\n",
    "    else:\n",
    "        job_url = job_url + item + \"%20\"\n",
    "\n",
    "country_url =\"\";\n",
    "for item in country_name.split(\" \"):\n",
    "    if item != country_name.split(\" \")[-1]:\n",
    "        country_url = country_url + item + \"%20\"\n",
    "    else:\n",
    "        country_url = country_url + item\n",
    "\n",
    "url = \"https://www.linkedin.com/jobs/search?keywords={}&location={}&geoId=&trk=public_jobs_jobs-search-bar_search-submit&position=1&pageNum=0\".format(job_url,country_url)\n",
    "url"
   ]
  },
  {
   "cell_type": "code",
   "execution_count": 11,
   "id": "2569f9ea",
   "metadata": {},
   "outputs": [
    {
     "name": "stderr",
     "output_type": "stream",
     "text": [
      "C:\\Users\\admin\\AppData\\Local\\Temp\\ipykernel_10204\\185307237.py:2: DeprecationWarning: executable_path has been deprecated, please pass in a Service object\n",
      "  driver = webdriver.Chrome(\"Driver/chromedriver.exe\")\n"
     ]
    }
   ],
   "source": [
    "# Creating a webdriver instance\n",
    "driver = webdriver.Chrome(\"Driver/chromedriver.exe\")\n",
    "# Opening the url we have just defined in our browser\n",
    "driver.get(url)"
   ]
  },
  {
   "cell_type": "markdown",
   "id": "78f818c9",
   "metadata": {},
   "source": [
    "This code is using the Selenium WebDriver to extract the number of jobs found in a job search result page.\n",
    "\n",
    "The code first finds the number of jobs using a CSS selector, which selects the span element inside an h1 element on the page. It then gets the inner text of the span element using the get_attribute() method.\n",
    "\n",
    "If the number of jobs contains a comma (,) in its string representation (i.e., if it has a value greater than or equal to 1,000), the code splits the string at the comma and multiplies the first element by 1000 to get the actual number of jobs. For example, if the inner text of the span element is \"1,234 jobs found\", the code will convert it to the integer value 1234.\n",
    "\n",
    "If the number of jobs doesn't contain a comma, the code simply converts the inner text of the span element to an integer.\n",
    "\n",
    "Finally, the code converts the resulting value to an integer using the int() function.\n",
    "\n",
    "Note that this code assumes that the number of jobs is always represented as an integer with an optional comma separator. If this assumption is not true for a particular job search result page, the code may produce unexpected results or errors.\n",
    "- Optional comma seperator - The code mentioned here assumes that the number of jobs returned by a job search result page is always represented as an integer with an optional comma separator.\n",
    "\n",
    "For example, if the number of jobs returned is 1,234 then it is assumed to be represented as \"1,234\". If this assumption is not true for a particular job search result page, the code may produce unexpected results or errors.\n",
    "\n",
    "For instance, if the number of jobs returned is represented as \"1.2k\" or \"one thousand two hundred thirty-four,\" then the code may not be able to correctly parse or interpret this value as an integer, leading to unexpected results or errors.\n",
    "\n",
    "Therefore, it's important to validate the format of the data being parsed and ensure that it conforms to the assumptions made in the code to prevent unexpected results or errors.\n",
    "\n",
    "\n",
    "############################################################################################################################\n",
    "This code is likely part of a web scraping script that is scraping job search results from a website. Here is an explanation of what the code is doing:\n",
    "\n",
    "The code starts by initializing a variable i to the value 2.\n",
    "\n",
    "It then enters a while loop that will continue to run as long as the value of i is less than or equal to half of the total number of jobs (jobs_num) plus one.\n",
    "\n",
    "Within the while loop, the code uses the driver.execute_script function to execute a JavaScript command that scrolls the browser window to the bottom of the page.\n",
    "\n",
    "The code then increments the value of i by 1, and prints out the current value of i and the percentage of the job search results that have been scrolled through so far.\n",
    "\n",
    "The code then attempts to find and click on a \"Load more results\" button on the page, if one exists. If it is successful, the code waits for a short period of time (0.1 seconds) to allow the new results to load.\n",
    "\n",
    "If the code is not able to find a \"Load more results\" button, it simply waits for a short period of time (0.1 seconds) and continues with the loop.\n",
    "\n",
    "The purpose of this code is to scroll through the job search results and click on the \"Load more results\" button as needed in order to scrape all of the available job postings. The while loop continues until the script has scrolled through at least half of the total job search results (plus one), in order to ensure that all job postings are scraped.\n"
   ]
  },
  {
   "cell_type": "code",
   "execution_count": 12,
   "id": "8be0e6b3",
   "metadata": {},
   "outputs": [
    {
     "name": "stdout",
     "output_type": "stream",
     "text": [
      "Current at:  2502 Percentage at:  100.07996801279488 %\r"
     ]
    }
   ],
   "source": [
    "#We find how many jobs are offered.\n",
    "jobs_num = driver.find_element(By.CSS_SELECTOR,\"h1>span\").get_attribute(\"innerText\")\n",
    "if len(jobs_num.split(',')) > 1:\n",
    "    jobs_num = int(jobs_num.split(',')[0])*1000\n",
    "else:\n",
    "    jobs_num = int(jobs_num)\n",
    "\n",
    "jobs_num   = int(jobs_num)\n",
    "\n",
    "#We create a while loop to browse all jobs. \n",
    "i = 2\n",
    "while i <= int(jobs_num/2)+1:\n",
    "    #We keep scrollind down to the end of the view.\n",
    "    driver.execute_script(\"window.scrollTo(0, document.body.scrollHeight);\")\n",
    "    i = i + 1\n",
    "    print(\"Current at: \", i, \"Percentage at: \", ((i+1)/(int(jobs_num/2)+1))*100, \"%\",end=\"\\r\")\n",
    "    try:\n",
    "        #We try to click on the load more results buttons in case it is already displayed.\n",
    "        infinite_scroller_button = driver.find_element(By.XPATH, \".//button[@aria-label='Load more results']\")\n",
    "        infinite_scroller_button.click()\n",
    "        time.sleep(0.1)\n",
    "    except:\n",
    "        #If there is no button, there will be an error, so we keep scrolling down.\n",
    "        time.sleep(0.1)\n",
    "        pass"
   ]
  },
  {
   "cell_type": "code",
   "execution_count": 13,
   "id": "3f6d5b43",
   "metadata": {},
   "outputs": [],
   "source": [
    "#We get a list containing all jobs that we have found.\n",
    "job_lists = driver.find_element(By.CLASS_NAME,\"jobs-search__results-list\")\n",
    "jobs = job_lists.find_elements(By.TAG_NAME,\"li\") # return a list\n",
    "\n",
    "#We declare void list to keep track of all obtaind data.\n",
    "job_title_list = []\n",
    "company_name_list = []\n",
    "location_list = []\n",
    "date_list = []\n",
    "job_link_list = []\n",
    "\n",
    "#We loof over every job and obtain all the wanted info.\n",
    "for job in jobs:\n",
    "    #job_title\n",
    "    job_title = job.find_element(By.CSS_SELECTOR,\"h3\").get_attribute(\"innerText\")\n",
    "    job_title_list.append(job_title)\n",
    "    \n",
    "    #company_name\n",
    "    company_name = job.find_element(By.CSS_SELECTOR,\"h4\").get_attribute(\"innerText\")\n",
    "    company_name_list.append(company_name)\n",
    "    \n",
    "    #location\n",
    "    location = job.find_element(By.CSS_SELECTOR,\"div>div>span\").get_attribute(\"innerText\")\n",
    "    location_list.append(location)\n",
    "    \n",
    "    #date\n",
    "    date = job.find_element(By.CSS_SELECTOR,\"div>div>time\").get_attribute(\"datetime\")\n",
    "    date_list.append(date)\n",
    "    \n",
    "    #job_link\n",
    "    job_link = job.find_element(By.CSS_SELECTOR,\"a\").get_attribute(\"href\")\n",
    "    job_link_list.append(job_link)"
   ]
  },
  {
   "cell_type": "code",
   "execution_count": 14,
   "id": "1b35391b",
   "metadata": {},
   "outputs": [],
   "source": [
    "job_data = pd.DataFrame({'Date': date_list,'Company': company_name_list,'Title': job_title_list,'Location': location_list,'Link': job_link_list})"
   ]
  },
  {
   "cell_type": "code",
   "execution_count": 15,
   "id": "86d50b91",
   "metadata": {},
   "outputs": [
    {
     "data": {
      "text/html": [
       "<div>\n",
       "<style scoped>\n",
       "    .dataframe tbody tr th:only-of-type {\n",
       "        vertical-align: middle;\n",
       "    }\n",
       "\n",
       "    .dataframe tbody tr th {\n",
       "        vertical-align: top;\n",
       "    }\n",
       "\n",
       "    .dataframe thead th {\n",
       "        text-align: right;\n",
       "    }\n",
       "</style>\n",
       "<table border=\"1\" class=\"dataframe\">\n",
       "  <thead>\n",
       "    <tr style=\"text-align: right;\">\n",
       "      <th></th>\n",
       "      <th>Date</th>\n",
       "      <th>Company</th>\n",
       "      <th>Title</th>\n",
       "      <th>Location</th>\n",
       "      <th>Link</th>\n",
       "    </tr>\n",
       "  </thead>\n",
       "  <tbody>\n",
       "    <tr>\n",
       "      <th>0</th>\n",
       "      <td>2023-03-02</td>\n",
       "      <td>Falabella India</td>\n",
       "      <td>Machine Learning Engineer</td>\n",
       "      <td>Greater Bengaluru Area</td>\n",
       "      <td>https://in.linkedin.com/jobs/view/machine-lear...</td>\n",
       "    </tr>\n",
       "    <tr>\n",
       "      <th>1</th>\n",
       "      <td>2023-03-13</td>\n",
       "      <td>Supersourcing</td>\n",
       "      <td>AI/ML Engineer</td>\n",
       "      <td>Bengaluru, Karnataka, India</td>\n",
       "      <td>https://in.linkedin.com/jobs/view/ai-ml-engine...</td>\n",
       "    </tr>\n",
       "    <tr>\n",
       "      <th>2</th>\n",
       "      <td>2023-03-14</td>\n",
       "      <td>Antal International</td>\n",
       "      <td>Data Scientist</td>\n",
       "      <td>Bengaluru East, Karnataka, India</td>\n",
       "      <td>https://in.linkedin.com/jobs/view/data-scienti...</td>\n",
       "    </tr>\n",
       "    <tr>\n",
       "      <th>3</th>\n",
       "      <td>2023-03-06</td>\n",
       "      <td>Chegg Inc.</td>\n",
       "      <td>Senior Data Scientist</td>\n",
       "      <td>New Delhi, Delhi, India</td>\n",
       "      <td>https://in.linkedin.com/jobs/view/senior-data-...</td>\n",
       "    </tr>\n",
       "    <tr>\n",
       "      <th>4</th>\n",
       "      <td>2023-03-20</td>\n",
       "      <td>Qualcomm</td>\n",
       "      <td>ML Engineer</td>\n",
       "      <td>Bengaluru East, Karnataka, India</td>\n",
       "      <td>https://in.linkedin.com/jobs/view/ml-engineer-...</td>\n",
       "    </tr>\n",
       "    <tr>\n",
       "      <th>...</th>\n",
       "      <td>...</td>\n",
       "      <td>...</td>\n",
       "      <td>...</td>\n",
       "      <td>...</td>\n",
       "      <td>...</td>\n",
       "    </tr>\n",
       "    <tr>\n",
       "      <th>944</th>\n",
       "      <td>2023-03-05</td>\n",
       "      <td>Tata Consultancy Services</td>\n",
       "      <td>Micro Focus Developer</td>\n",
       "      <td>Bengaluru, Karnataka, India</td>\n",
       "      <td>https://in.linkedin.com/jobs/view/micro-focus-...</td>\n",
       "    </tr>\n",
       "    <tr>\n",
       "      <th>945</th>\n",
       "      <td>2023-03-07</td>\n",
       "      <td>BatchService</td>\n",
       "      <td>Data Analyst</td>\n",
       "      <td>India</td>\n",
       "      <td>https://in.linkedin.com/jobs/view/data-analyst...</td>\n",
       "    </tr>\n",
       "    <tr>\n",
       "      <th>946</th>\n",
       "      <td>2023-03-19</td>\n",
       "      <td>Jobs for Humanity</td>\n",
       "      <td>Lead Engineer (4+ years of experience in Java,...</td>\n",
       "      <td>Gurugram, Haryana, India</td>\n",
       "      <td>https://in.linkedin.com/jobs/view/lead-enginee...</td>\n",
       "    </tr>\n",
       "    <tr>\n",
       "      <th>947</th>\n",
       "      <td>2022-11-07</td>\n",
       "      <td>Elevate</td>\n",
       "      <td>Lead Developer</td>\n",
       "      <td>India</td>\n",
       "      <td>https://in.linkedin.com/jobs/view/lead-develop...</td>\n",
       "    </tr>\n",
       "    <tr>\n",
       "      <th>948</th>\n",
       "      <td>2023-03-16</td>\n",
       "      <td>Qualcomm</td>\n",
       "      <td>Sensor Test Engineer</td>\n",
       "      <td>Hyderabad, Telangana, India</td>\n",
       "      <td>https://in.linkedin.com/jobs/view/sensor-test-...</td>\n",
       "    </tr>\n",
       "  </tbody>\n",
       "</table>\n",
       "<p>949 rows × 5 columns</p>\n",
       "</div>"
      ],
      "text/plain": [
       "           Date                    Company  \\\n",
       "0    2023-03-02            Falabella India   \n",
       "1    2023-03-13              Supersourcing   \n",
       "2    2023-03-14        Antal International   \n",
       "3    2023-03-06                 Chegg Inc.   \n",
       "4    2023-03-20                   Qualcomm   \n",
       "..          ...                        ...   \n",
       "944  2023-03-05  Tata Consultancy Services   \n",
       "945  2023-03-07               BatchService   \n",
       "946  2023-03-19          Jobs for Humanity   \n",
       "947  2022-11-07                    Elevate   \n",
       "948  2023-03-16                   Qualcomm   \n",
       "\n",
       "                                                 Title  \\\n",
       "0                            Machine Learning Engineer   \n",
       "1                                       AI/ML Engineer   \n",
       "2                                       Data Scientist   \n",
       "3                                Senior Data Scientist   \n",
       "4                                          ML Engineer   \n",
       "..                                                 ...   \n",
       "944                              Micro Focus Developer   \n",
       "945                                       Data Analyst   \n",
       "946  Lead Engineer (4+ years of experience in Java,...   \n",
       "947                                     Lead Developer   \n",
       "948                               Sensor Test Engineer   \n",
       "\n",
       "                             Location  \\\n",
       "0              Greater Bengaluru Area   \n",
       "1         Bengaluru, Karnataka, India   \n",
       "2    Bengaluru East, Karnataka, India   \n",
       "3             New Delhi, Delhi, India   \n",
       "4    Bengaluru East, Karnataka, India   \n",
       "..                                ...   \n",
       "944       Bengaluru, Karnataka, India   \n",
       "945                             India   \n",
       "946          Gurugram, Haryana, India   \n",
       "947                             India   \n",
       "948       Hyderabad, Telangana, India   \n",
       "\n",
       "                                                  Link  \n",
       "0    https://in.linkedin.com/jobs/view/machine-lear...  \n",
       "1    https://in.linkedin.com/jobs/view/ai-ml-engine...  \n",
       "2    https://in.linkedin.com/jobs/view/data-scienti...  \n",
       "3    https://in.linkedin.com/jobs/view/senior-data-...  \n",
       "4    https://in.linkedin.com/jobs/view/ml-engineer-...  \n",
       "..                                                 ...  \n",
       "944  https://in.linkedin.com/jobs/view/micro-focus-...  \n",
       "945  https://in.linkedin.com/jobs/view/data-analyst...  \n",
       "946  https://in.linkedin.com/jobs/view/lead-enginee...  \n",
       "947  https://in.linkedin.com/jobs/view/lead-develop...  \n",
       "948  https://in.linkedin.com/jobs/view/sensor-test-...  \n",
       "\n",
       "[949 rows x 5 columns]"
      ]
     },
     "execution_count": 15,
     "metadata": {},
     "output_type": "execute_result"
    }
   ],
   "source": [
    "job_data"
   ]
  },
  {
   "cell_type": "code",
   "execution_count": 16,
   "id": "c1da749e",
   "metadata": {},
   "outputs": [
    {
     "data": {
      "text/plain": [
       "949"
      ]
     },
     "execution_count": 16,
     "metadata": {},
     "output_type": "execute_result"
    }
   ],
   "source": [
    "len(job_data)"
   ]
  },
  {
   "cell_type": "code",
   "execution_count": 20,
   "id": "cb6587bf",
   "metadata": {},
   "outputs": [],
   "source": [
    "job_data.to_csv('E:\\DS - ExcelR\\P3\\job_details.csv') #csv"
   ]
  },
  {
   "cell_type": "code",
   "execution_count": 22,
   "id": "07d45cc6",
   "metadata": {},
   "outputs": [],
   "source": [
    "job_data.to_excel('E:\\DS - ExcelR\\P3\\job_details.xlsx', index = False) #xlsx"
   ]
  },
  {
   "cell_type": "code",
   "execution_count": null,
   "id": "221a2ed6",
   "metadata": {},
   "outputs": [],
   "source": []
  }
 ],
 "metadata": {
  "kernelspec": {
   "display_name": "Python 3 (ipykernel)",
   "language": "python",
   "name": "python3"
  },
  "language_info": {
   "codemirror_mode": {
    "name": "ipython",
    "version": 3
   },
   "file_extension": ".py",
   "mimetype": "text/x-python",
   "name": "python",
   "nbconvert_exporter": "python",
   "pygments_lexer": "ipython3",
   "version": "3.9.13"
  }
 },
 "nbformat": 4,
 "nbformat_minor": 5
}
